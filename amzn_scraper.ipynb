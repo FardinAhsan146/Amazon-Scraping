{
 "cells": [
  {
   "cell_type": "code",
   "execution_count": 1,
   "id": "4414eb0d",
   "metadata": {},
   "outputs": [],
   "source": [
    "import time\n",
    "import re\n",
    "import requests \n",
    "import numpy as np\n",
    "import pandas as pd\n",
    "import concurrent.futures\n",
    "\n",
    "from bs4 import BeautifulSoup as bs\n",
    "from fake_useragent import UserAgent\n",
    "from tqdm import tqdm\n",
    "\n",
    "from selenium import webdriver\n",
    "from selenium.webdriver.common.by import By\n",
    "from selenium.webdriver.common.keys import Keys\n",
    "from selenium.webdriver.chrome.options import Options\n",
    "from webdriver_manager.chrome import ChromeDriverManager\n",
    "from selenium.common.exceptions import ElementNotInteractableException,NoSuchWindowException "
   ]
  },
  {
   "cell_type": "markdown",
   "id": "0b3cec24",
   "metadata": {},
   "source": [
    "# Scraping prices of products off amazon"
   ]
  },
  {
   "cell_type": "markdown",
   "id": "35901cad",
   "metadata": {},
   "source": [
    "### Load excel from before"
   ]
  },
  {
   "cell_type": "code",
   "execution_count": 2,
   "id": "e0bd0e08",
   "metadata": {},
   "outputs": [
    {
     "data": {
      "text/html": [
       "<div>\n",
       "<style scoped>\n",
       "    .dataframe tbody tr th:only-of-type {\n",
       "        vertical-align: middle;\n",
       "    }\n",
       "\n",
       "    .dataframe tbody tr th {\n",
       "        vertical-align: top;\n",
       "    }\n",
       "\n",
       "    .dataframe thead th {\n",
       "        text-align: right;\n",
       "    }\n",
       "</style>\n",
       "<table border=\"1\" class=\"dataframe\">\n",
       "  <thead>\n",
       "    <tr style=\"text-align: right;\">\n",
       "      <th></th>\n",
       "      <th>Item</th>\n",
       "      <th></th>\n",
       "      <th>Designer</th>\n",
       "      <th>Category</th>\n",
       "      <th>Item Name</th>\n",
       "      <th>Price</th>\n",
       "      <th>Qty Avail</th>\n",
       "      <th>Packaging</th>\n",
       "      <th>UPC/EAN</th>\n",
       "      <th>Case Count</th>\n",
       "      <th>Order Qty</th>\n",
       "      <th>Gender</th>\n",
       "    </tr>\n",
       "  </thead>\n",
       "  <tbody>\n",
       "    <tr>\n",
       "      <th>0</th>\n",
       "      <td>12672</td>\n",
       "      <td>1.0</td>\n",
       "      <td>Abercrombie &amp; Fitch</td>\n",
       "      <td>Regular</td>\n",
       "      <td>Abercrombie &amp; Fitch Fierce 1.7 EDC Sp Men</td>\n",
       "      <td>46.5</td>\n",
       "      <td>56</td>\n",
       "      <td>New In Box</td>\n",
       "      <td>634349765</td>\n",
       "      <td>12</td>\n",
       "      <td></td>\n",
       "      <td>Men</td>\n",
       "    </tr>\n",
       "    <tr>\n",
       "      <th>1</th>\n",
       "      <td>26413</td>\n",
       "      <td>1.0</td>\n",
       "      <td>Al Haramain</td>\n",
       "      <td>Regular</td>\n",
       "      <td>Al Haramain Amber Oud Tobacco Edition 2.0 EDP ...</td>\n",
       "      <td>38.5</td>\n",
       "      <td>more than 360</td>\n",
       "      <td>New In Box</td>\n",
       "      <td>6291100132171</td>\n",
       "      <td>- None -</td>\n",
       "      <td></td>\n",
       "      <td>Men</td>\n",
       "    </tr>\n",
       "    <tr>\n",
       "      <th>2</th>\n",
       "      <td>10689</td>\n",
       "      <td>1.0</td>\n",
       "      <td>Alfred Sung</td>\n",
       "      <td>Regular</td>\n",
       "      <td>Alfred Sung Hei 3.4 EDT Sp Men</td>\n",
       "      <td>12.5</td>\n",
       "      <td>more than 360</td>\n",
       "      <td>New In Box</td>\n",
       "      <td>067724200017</td>\n",
       "      <td>24</td>\n",
       "      <td></td>\n",
       "      <td>Men</td>\n",
       "    </tr>\n",
       "    <tr>\n",
       "      <th>3</th>\n",
       "      <td>13377</td>\n",
       "      <td>1.0</td>\n",
       "      <td>Alfred Sung</td>\n",
       "      <td>Regular</td>\n",
       "      <td>Alfred Sung Shi 3.4 EDP Sp Women</td>\n",
       "      <td>14.5</td>\n",
       "      <td>12</td>\n",
       "      <td>New In Box</td>\n",
       "      <td>067724271116</td>\n",
       "      <td>24</td>\n",
       "      <td></td>\n",
       "      <td>Women</td>\n",
       "    </tr>\n",
       "    <tr>\n",
       "      <th>4</th>\n",
       "      <td>11668</td>\n",
       "      <td>1.0</td>\n",
       "      <td>Animale</td>\n",
       "      <td>Regular</td>\n",
       "      <td>Animale 3.4 EDP Sp Women</td>\n",
       "      <td>21.5</td>\n",
       "      <td>more than 360</td>\n",
       "      <td>New In Box</td>\n",
       "      <td>892456000037</td>\n",
       "      <td>24</td>\n",
       "      <td></td>\n",
       "      <td>Women</td>\n",
       "    </tr>\n",
       "  </tbody>\n",
       "</table>\n",
       "</div>"
      ],
      "text/plain": [
       "    Item                  Designer Category  \\\n",
       "0  12672  1.0  Abercrombie & Fitch  Regular   \n",
       "1  26413  1.0          Al Haramain  Regular   \n",
       "2  10689  1.0          Alfred Sung  Regular   \n",
       "3  13377  1.0          Alfred Sung  Regular   \n",
       "4  11668  1.0              Animale  Regular   \n",
       "\n",
       "                                           Item Name  Price      Qty Avail  \\\n",
       "0          Abercrombie & Fitch Fierce 1.7 EDC Sp Men   46.5             56   \n",
       "1  Al Haramain Amber Oud Tobacco Edition 2.0 EDP ...   38.5  more than 360   \n",
       "2                     Alfred Sung Hei 3.4 EDT Sp Men   12.5  more than 360   \n",
       "3                   Alfred Sung Shi 3.4 EDP Sp Women   14.5             12   \n",
       "4                           Animale 3.4 EDP Sp Women   21.5  more than 360   \n",
       "\n",
       "    Packaging        UPC/EAN Case Count Order Qty Gender  \n",
       "0  New In Box      634349765         12              Men  \n",
       "1  New In Box  6291100132171   - None -              Men  \n",
       "2  New In Box   067724200017         24              Men  \n",
       "3  New In Box   067724271116         24            Women  \n",
       "4  New In Box   892456000037         24            Women  "
      ]
     },
     "execution_count": 2,
     "metadata": {},
     "output_type": "execute_result"
    }
   ],
   "source": [
    "df = pd.read_excel('pricelist.xls')\n",
    "df.head()"
   ]
  },
  {
   "cell_type": "code",
   "execution_count": 3,
   "id": "4c7b3b00",
   "metadata": {},
   "outputs": [
    {
     "data": {
      "text/plain": [
       "Index(['Item', ' ', 'Designer', 'Category', 'Item Name', 'Price', 'Qty Avail',\n",
       "       'Packaging', 'UPC/EAN', 'Case Count', 'Order Qty', 'Gender'],\n",
       "      dtype='object')"
      ]
     },
     "execution_count": 3,
     "metadata": {},
     "output_type": "execute_result"
    }
   ],
   "source": [
    "df.columns"
   ]
  },
  {
   "cell_type": "code",
   "execution_count": 4,
   "id": "2b129a99",
   "metadata": {},
   "outputs": [
    {
     "name": "stdout",
     "output_type": "stream",
     "text": [
      "<class 'pandas.core.frame.DataFrame'>\n",
      "RangeIndex: 1289 entries, 0 to 1288\n",
      "Data columns (total 12 columns):\n",
      " #   Column      Non-Null Count  Dtype  \n",
      "---  ------      --------------  -----  \n",
      " 0   Item        1289 non-null   int64  \n",
      " 1               1284 non-null   float64\n",
      " 2   Designer    1289 non-null   object \n",
      " 3   Category    1289 non-null   object \n",
      " 4   Item Name   1289 non-null   object \n",
      " 5   Price       1289 non-null   float64\n",
      " 6   Qty Avail   1289 non-null   object \n",
      " 7   Packaging   1289 non-null   object \n",
      " 8   UPC/EAN     1284 non-null   object \n",
      " 9   Case Count  1289 non-null   object \n",
      " 10  Order Qty   1289 non-null   object \n",
      " 11  Gender      1289 non-null   object \n",
      "dtypes: float64(2), int64(1), object(9)\n",
      "memory usage: 121.0+ KB\n"
     ]
    }
   ],
   "source": [
    "df.info()"
   ]
  },
  {
   "cell_type": "code",
   "execution_count": 5,
   "id": "544f1653",
   "metadata": {},
   "outputs": [
    {
     "data": {
      "text/plain": [
       "array(['634349765', '6291100132171', '067724200017', ..., '888874001541',\n",
       "       '860002058931', '605930779929'], dtype=object)"
      ]
     },
     "execution_count": 5,
     "metadata": {},
     "output_type": "execute_result"
    }
   ],
   "source": [
    "# Make an array of the UPC values we will use to retrieve items.\n",
    "upc_arr = df['UPC/EAN'].loc[df['UPC/EAN'] != '- None -'].to_numpy()\n",
    "upc_arr"
   ]
  },
  {
   "cell_type": "code",
   "execution_count": 6,
   "id": "409db761",
   "metadata": {},
   "outputs": [],
   "source": [
    "# Helper function to search for product\n",
    "def make_url(search_term):\n",
    "    \"\"\"\n",
    "    Makes an amazon.ae search result url\n",
    "    \"\"\"\n",
    "    return f'https://www.amazon.ae/s?k={search_term}'"
   ]
  },
  {
   "cell_type": "markdown",
   "id": "be37f935",
   "metadata": {},
   "source": [
    "### Try with one item"
   ]
  },
  {
   "cell_type": "code",
   "execution_count": 7,
   "id": "dd966ad9",
   "metadata": {},
   "outputs": [
    {
     "name": "stderr",
     "output_type": "stream",
     "text": [
      "\n",
      "\n",
      "====== WebDriver manager ======\n",
      "Current google-chrome version is 97.0.4692\n",
      "Get LATEST driver version for 97.0.4692\n",
      "Driver [C:\\Users\\Fardin\\.wdm\\drivers\\chromedriver\\win32\\97.0.4692.71\\chromedriver.exe] found in cache\n"
     ]
    }
   ],
   "source": [
    "chrome_options = webdriver.ChromeOptions()\n",
    "chrome_options.add_argument(\"user-agent=[user-agent string]\")\n",
    "chrome_options.add_argument('--disable-notifications')\n",
    "prefs = {\"profile.default_content_setting_values.notifications\" : 2}\n",
    "chrome_options.add_experimental_option(\"prefs\",prefs)\n",
    "chrome_options.add_argument(\"window-size=1920,1080\")\n",
    "\n",
    "driver_manager = ChromeDriverManager().install()\n",
    "driver = webdriver.Chrome(driver_manager,\n",
    "                          options = chrome_options)\n",
    "\n",
    "\n",
    "url = 'https://www.amazon.ae/s?k=3386460036757'\n",
    "driver.get(url)\n",
    "soup = bs(driver.page_source, 'html.parser') \n",
    "\n",
    "driver.quit()"
   ]
  },
  {
   "cell_type": "code",
   "execution_count": 8,
   "id": "ae6cfd37",
   "metadata": {},
   "outputs": [
    {
     "data": {
      "text/plain": [
       "[<span class=\"a-offscreen\">AED 109.00</span>,\n",
       " <span class=\"a-offscreen\">AED 184.38</span>,\n",
       " <span class=\"a-offscreen\">AED 109.00</span>]"
      ]
     },
     "execution_count": 8,
     "metadata": {},
     "output_type": "execute_result"
    }
   ],
   "source": [
    "soup.find_all('span', {'class':'a-offscreen'})"
   ]
  },
  {
   "cell_type": "code",
   "execution_count": 9,
   "id": "589b0cee",
   "metadata": {},
   "outputs": [
    {
     "data": {
      "text/plain": [
       "'AED\\xa0109.00'"
      ]
     },
     "execution_count": 9,
     "metadata": {},
     "output_type": "execute_result"
    }
   ],
   "source": [
    "soup.find_all('span', {'class':'a-offscreen'})[0].text"
   ]
  },
  {
   "cell_type": "code",
   "execution_count": 10,
   "id": "061ae2e7",
   "metadata": {},
   "outputs": [
    {
     "data": {
      "text/plain": [
       "'184.38'"
      ]
     },
     "execution_count": 10,
     "metadata": {},
     "output_type": "execute_result"
    }
   ],
   "source": [
    "def clean_price(price_text):\n",
    "    \"\"\"\n",
    "    Cleans up the price text.\n",
    "    \"\"\"\n",
    "    regex = r'[\\d]+\\.?[\\d]+'\n",
    "    \n",
    "    return re.findall(regex,price_text)[0]\n",
    "\n",
    "clean_price('AED\\xa0184.38')"
   ]
  },
  {
   "cell_type": "markdown",
   "id": "37278029",
   "metadata": {},
   "source": [
    "## Do with all items of interest"
   ]
  },
  {
   "cell_type": "code",
   "execution_count": null,
   "id": "9e901695",
   "metadata": {},
   "outputs": [],
   "source": []
  },
  {
   "cell_type": "code",
   "execution_count": null,
   "id": "95c55d14",
   "metadata": {},
   "outputs": [],
   "source": []
  }
 ],
 "metadata": {
  "kernelspec": {
   "display_name": "Python 3 (ipykernel)",
   "language": "python",
   "name": "python3"
  },
  "language_info": {
   "codemirror_mode": {
    "name": "ipython",
    "version": 3
   },
   "file_extension": ".py",
   "mimetype": "text/x-python",
   "name": "python",
   "nbconvert_exporter": "python",
   "pygments_lexer": "ipython3",
   "version": "3.8.12"
  }
 },
 "nbformat": 4,
 "nbformat_minor": 5
}
